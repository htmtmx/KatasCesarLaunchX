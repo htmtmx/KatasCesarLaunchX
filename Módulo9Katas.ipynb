{
  "cells": [
    {
      "cell_type": "markdown",
      "metadata": {},
      "source": [
        "# Ejercicio: Uso de funciones en Python"
      ]
    },
    {
      "cell_type": "markdown",
      "metadata": {},
      "source": [
        "### Ejercicio 1: Trabajar con argumentos en funciones\n",
        "\n",
        "Los argumentos requeridos en las funciones se utilizan cuando las funciones necesitan que esos argumentos funcionen correctamente. En este ejercicio, construirás un informe de combustible que requiere información de varias ubicaciones de combustible en todo el cohete.\n",
        "\n"
      ]
    },
    {
      "cell_type": "markdown",
      "metadata": {},
      "source": [
        "> **TIP**\n",
        "> Dedica unos minutos para tratar de encontrar una solución. Luego desplázate hacia abajo hasta la parte inferior para ver si has logrado compilar el programa de acuerdo con las especificaciones\n",
        "\n",
        "Comienza por crear una función que necesite tres lecturas de combustible y devuelva un informe:"
      ]
    },
    {
      "cell_type": "code",
      "execution_count": 65,
      "metadata": {},
      "outputs": [],
      "source": [
        "# Función para leer 3 tanques de combustible y muestre el promedio\n",
        "def combustible(tanque1,tanque2,tanque3):\n",
        "    promedio = (tanque1+tanque2+tanque3)/3\n",
        "    return f\"\"\"\n",
        "    Informe \n",
        "    {'-'*30}\n",
        "    Combustible del cohete\n",
        "    {'-'*30}\n",
        "    Promedio: {promedio:.2f}\n",
        "    Tanque 1: {tanque1} litros\n",
        "    Tanque 2: {tanque2} litros\n",
        "    Tanque 3: {tanque3} litros\"\"\""
      ]
    },
    {
      "cell_type": "markdown",
      "metadata": {},
      "source": [
        "Ahora que hemos definido la función de informes, vamos a comprobarlo. Para esta misión, los tanques no están llenos:"
      ]
    },
    {
      "cell_type": "code",
      "execution_count": 66,
      "metadata": {},
      "outputs": [
        {
          "name": "stdout",
          "output_type": "stream",
          "text": [
            "\n",
            "    Informe \n",
            "    ------------------------------\n",
            "    Combustible del cohete\n",
            "    ------------------------------\n",
            "    Promedio: 195.00\n",
            "    Tanque 1: 200 litros\n",
            "    Tanque 2: 250 litros\n",
            "    Tanque 3: 135 litros\n"
          ]
        }
      ],
      "source": [
        "\n",
        "# Llamamos a la función que genera el reporte print(funcion(tanque1, tanque2, tanque3))\n",
        "print(combustible(200,250,135))"
      ]
    },
    {
      "cell_type": "markdown",
      "metadata": {},
      "source": [
        "En lugar de simplemente crear el informe, la función también está calculando el promedio. Mejora la legibilidad extrayendo el cálculo promedio de la función en una nueva función para que el promedio se pueda hacer de forma independiente:"
      ]
    },
    {
      "cell_type": "code",
      "execution_count": 67,
      "metadata": {},
      "outputs": [],
      "source": [
        "# Función promedio \n",
        "def promedioCombustible(lecturas):\n",
        "    totalLecturas = sum(lecturas)\n",
        "    numeroLecturas = len(lecturas)\n",
        "    promedio = totalLecturas/numeroLecturas\n",
        "    return promedio\n"
      ]
    },
    {
      "cell_type": "markdown",
      "metadata": {},
      "source": [
        "Ahora actualiza la función de informes para llamando a la nueva función del promedio:\n"
      ]
    },
    {
      "cell_type": "code",
      "execution_count": 68,
      "metadata": {},
      "outputs": [
        {
          "name": "stdout",
          "output_type": "stream",
          "text": [
            "\n",
            "    Informe\n",
            "    ------------------------------\n",
            "    Combustible del cohete\n",
            "    ------------------------------\n",
            "    Tanque 1: 200 litros\n",
            "    Tanque 2: 250 litros\n",
            "    Tanque 3: 135 litros\n",
            "    ------------------------------\n",
            "    El promedio del combustible en el cohete es de: 195.0\n",
            "    \n"
          ]
        }
      ],
      "source": [
        "# Actualiza la función\n",
        "def combustible(tanque1,tanque2,tanque3):\n",
        "    return f\"\"\"\n",
        "    Informe\n",
        "    {'-'*30}\n",
        "    Combustible del cohete\n",
        "    {'-'*30}\n",
        "    Tanque 1: {tanque1} litros\n",
        "    Tanque 2: {tanque2} litros\n",
        "    Tanque 3: {tanque3} litros\n",
        "    {'-'*30}\n",
        "    El promedio del combustible en el cohete es de: {promedioCombustible([tanque1,tanque2,tanque3])}\n",
        "    \"\"\"\n",
        "print(combustible(200,250,135))"
      ]
    },
    {
      "cell_type": "markdown",
      "metadata": {},
      "source": [
        "> Recuerda: Lo importante es intentarlo, puedes auxiliarte de internet, libros, etc. El objetivo de una kata es la comprobación de la comprensión de la lección y su aplicación inmediata a la resolución de problemas. Go for it!"
      ]
    },
    {
      "cell_type": "markdown",
      "metadata": {},
      "source": [
        "## Ejercicio 2: Trabajo con argumentos de palabra clave"
      ]
    },
    {
      "cell_type": "markdown",
      "metadata": {},
      "source": [
        "### Ejercicio : Trabajar con argumentos de palabras clave en funciones\n",
        "En este ejercicio, construirás un informe de cohete que requiere varias piezas de información, como el tiempo hasta el destino, el combustible a la izquierda y el nombre del destino. Comienza por crear una función que creará un informe preciso de la misión:"
      ]
    },
    {
      "cell_type": "code",
      "execution_count": 69,
      "metadata": {},
      "outputs": [
        {
          "name": "stdout",
          "output_type": "stream",
          "text": [
            "\n",
            "    ----------------------------------------\n",
            "    Informe de mision a Moon\n",
            "    ----------------------------------------  \n",
            "        Tiempo del viaje: 65 minutos\n",
            "    ----------------------------------------\n",
            "    Combustible\n",
            "        Restante: 500000 litros\n",
            "    ----------------------------------------\n"
          ]
        }
      ],
      "source": [
        "# Función con un informe preciso de la misión. Considera hora de prelanzamiento, tiempo de vuelo, destino, tanque externo y tanque interno\n",
        "def informeMision(horaPrelanzamiento,tiempoVuelo,destino,tanqueExterno,tanqueInterno):\n",
        "    return f\"\"\"\n",
        "    {'-'*40}\n",
        "    Informe de mision a {destino}\n",
        "    {'-'*40}  \n",
        "        Tiempo del viaje: {horaPrelanzamiento+tiempoVuelo} minutos\n",
        "    {'-'*40}\n",
        "    Combustible\n",
        "        Restante: {tanqueExterno+tanqueInterno} litros\n",
        "    {'-'*40}\"\"\"\n",
        "print(informeMision(14,51,'Moon',200000,300000))"
      ]
    },
    {
      "cell_type": "markdown",
      "metadata": {},
      "source": [
        "La función es problemática porque no se puede adaptar para minutos adicionales o tanques adicionales de combustible. Hazlo más flexible permitiendo cualquier número de pasos basados en el tiempo y cualquier número de tanques. En lugar de usar `*args` y `**kwargs`, aprovecha el hecho de que puedes usar cualquier nombre que desees. Asegurate que la función sea más legible mediante el uso de nombres de variables que están asociados con las entradas, como `*minutes` y `**fuel_reservoirs`:"
      ]
    },
    {
      "cell_type": "code",
      "execution_count": 70,
      "metadata": {},
      "outputs": [
        {
          "name": "stdout",
          "output_type": "stream",
          "text": [
            "\n",
            "    ----------------------------------------\n",
            "    Informe de mision a Marte\n",
            "    ----------------------------------------  \n",
            "        Tiempo del viaje: 169 minutos\n",
            "    ----------------------------------------\n",
            "    Combustible\n",
            "        Restante: 80 litros\n",
            "    ----------------------------------------\n"
          ]
        }
      ],
      "source": [
        "# Escribe tu nueva función de reporte considerando lo anterior\n",
        "def informeMision(destino,*minutosMision,**tanquesCombustible,):\n",
        "    informe = f\"\"\"\n",
        "    {'-'*40}\n",
        "    Informe de mision a {destino}\n",
        "    {'-'*40}  \n",
        "        Tiempo del viaje: {sum(minutosMision)} minutos\n",
        "    {'-'*40}\n",
        "    Combustible\n",
        "        Restante: {sum(tanquesCombustible.values())} litros\n",
        "    {'-'*40}\"\"\"\n",
        "    return informe\n",
        "print(informeMision('Marte',5,5,25,36,98,tanque1=12, tanque2=25, tanque3=23,tanque4=20))"
      ]
    },
    {
      "cell_type": "markdown",
      "metadata": {},
      "source": [
        "Debido a que el combustible que queda en los tanques es específico de cada tanque, actualiza la función para usar el nombre de cada tanque en el informe:"
      ]
    },
    {
      "cell_type": "code",
      "execution_count": 71,
      "metadata": {},
      "outputs": [
        {
          "name": "stdout",
          "output_type": "stream",
          "text": [
            "\n",
            "    Informe de mision a Marte\n",
            "    ----------------------------------------  \n",
            "        Tiempo del viaje: 169 minutos\n",
            "    ----------------------------------------\n",
            "    Combustible Restante: 80 litros\n",
            "            tanque1: 12 litros\n",
            "        \n",
            "            tanque2: 25 litros\n",
            "        \n",
            "            tanque3: 23 litros\n",
            "        \n",
            "            tanque4: 20 litros\n",
            "        \n",
            "    ----------------------------------------\n"
          ]
        }
      ],
      "source": [
        "# Escribe tu nueva función\n",
        "def informeMision(destino,*minutosMision,**tanquesCombustible,):\n",
        "    informe = f\"\"\"\n",
        "    Informe de mision a {destino}\n",
        "    {'-'*40}  \n",
        "        Tiempo del viaje: {sum(minutosMision)} minutos\n",
        "    {'-'*40}\n",
        "    Combustible Restante: {sum(tanquesCombustible.values())} litros\"\"\"\n",
        "    for tanque in tanquesCombustible:\n",
        "        informe += f\"\"\"\n",
        "            {tanque}: {tanquesCombustible[tanque]} litros\n",
        "        \"\"\"\n",
        "    informe += f\"\"\"\n",
        "    {'-'*40}\"\"\"\n",
        "    return informe\n",
        "print(informeMision('Marte',5,5,25,36,98,tanque1=12, tanque2=25, tanque3=23,tanque4=20))"
      ]
    },
    {
      "cell_type": "markdown",
      "metadata": {},
      "source": [
        "---\n",
        "\n",
        "Curso Propedútico de Python para Launch X - Innovacción Virtual.\n",
        "\n",
        "Material desarrollado con base en los contenidos de MSLearn y la metáfora de LaunchX, traducción e implementación por: Fernanda Ochoa - Learning Producer de LaunchX.\n",
        "\n",
        "Redes:\n",
        "* GitHub: [FernandaOchoa](https://github.com/FernandaOchoa)\n",
        "* Twitter: [@imonsh](https://twitter.com/imonsh)\n",
        "* Instagram: [fherz8a](https://www.instagram.com/fherz8a/)"
      ]
    }
  ],
  "metadata": {
    "interpreter": {
      "hash": "205095b8b86ea82a021a8fc2ffba2b3bc9f8d0be25999901963b225939f75778"
    },
    "kernelspec": {
      "display_name": "Python 3.8.10 64-bit ('tmp': conda)",
      "name": "python3"
    },
    "language_info": {
      "codemirror_mode": {
        "name": "ipython",
        "version": 3
      },
      "file_extension": ".py",
      "mimetype": "text/x-python",
      "name": "python",
      "nbconvert_exporter": "python",
      "pygments_lexer": "ipython3",
      "version": "3.10.2"
    },
    "nteract": {
      "version": "nteract-front-end@1.0.0"
    },
    "orig_nbformat": 4
  },
  "nbformat": 4,
  "nbformat_minor": 2
}
